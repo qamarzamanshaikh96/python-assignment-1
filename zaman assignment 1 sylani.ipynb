{
 "cells": [
  {
   "cell_type": "code",
   "execution_count": 60,
   "metadata": {},
   "outputs": [
    {
     "name": "stdout",
     "output_type": "stream",
     "text": [
      "Twinkle, twinkle, little star\n",
      "       How i wonder what you are!\n",
      "             up above the world so high,\n",
      "             like a diamond in a sky.\n",
      "Twinkle, twinkle, little star,\n",
      "How i wonder what you are\n"
     ]
    }
   ],
   "source": [
    "a = ('Twinkle, twinkle, little star')\n",
    "z = (\"       \")\n",
    "x = (\"             \")\n",
    "y = (\"             \")\n",
    "b =       ('How i wonder what you are!')\n",
    "c =              ('up above the world so high,')\n",
    "d =              ('like a diamond in a sky.')\n",
    "e = ('Twinkle, twinkle, little star,')\n",
    "f = ('How i wonder what you are')\n",
    "print(a)\n",
    "print(z+b)\n",
    "print(x+c)\n",
    "print(y+d)\n",
    "print(e)\n",
    "print(f)"
   ]
  },
  {
   "cell_type": "code",
   "execution_count": 78,
   "metadata": {},
   "outputs": [
    {
     "name": "stdout",
     "output_type": "stream",
     "text": [
      "Python version 3.7.4 (default, Aug  9 2019, 18:22:51) [MSC v.1915 32 bit (Intel)]\n"
     ]
    }
   ],
   "source": [
    "import sys\n",
    "\n",
    "system = \"Python version\"\n",
    "versionInfo = \"version information\"\n",
    "\n",
    "print(system, sys.version)\n"
   ]
  },
  {
   "cell_type": "code",
   "execution_count": 71,
   "metadata": {},
   "outputs": [
    {
     "name": "stdout",
     "output_type": "stream",
     "text": [
      "now =  2019-11-05 14:53:32.661500\n",
      "date and time = 05/11/19 145332\n"
     ]
    }
   ],
   "source": [
    "from datetime import datetime\n",
    "now = datetime.now()\n",
    "print(\"now = \", now)\n",
    "dt_string = now.strftime(\"%d/%m/%y %H%M%S\")\n",
    "print(\"date and time =\", dt_string)"
   ]
  },
  {
   "cell_type": "code",
   "execution_count": 84,
   "metadata": {},
   "outputs": [
    {
     "name": "stdout",
     "output_type": "stream",
     "text": [
      "input the radius of the circle : 12\n",
      "the area of the circle with radius12.0is:452.3893421169302\n"
     ]
    }
   ],
   "source": [
    "from math import pi\n",
    "r = float(input(\"input the radius of the circle : \"))\n",
    "print(\"the area of the circle with radius\" +str(r) + \"is:\" +str(pi* r**2))"
   ]
  },
  {
   "cell_type": "code",
   "execution_count": 1,
   "metadata": {},
   "outputs": [
    {
     "name": "stdout",
     "output_type": "stream",
     "text": [
      "Input your first name : qamar\n",
      "Input your last name : zaman\n",
      "zaman qamar\n"
     ]
    }
   ],
   "source": [
    "fname = input(\"Input your first name : \")\n",
    "lname = input(\"Input your last name : \")\n",
    "print(lname+\" \"+fname)"
   ]
  },
  {
   "cell_type": "code",
   "execution_count": 1,
   "metadata": {},
   "outputs": [
    {
     "name": "stdout",
     "output_type": "stream",
     "text": [
      "enter first number:2\n",
      "enter second number:4\n",
      "The sum of 2 and 4 is 6.0\n"
     ]
    }
   ],
   "source": [
    "num1 = input(\"enter first number:\")\n",
    "num2 = input(\"enter second number:\")\n",
    "sum = float(num1) + float(num2)\n",
    "print('The sum of {0} and {1} is {2}'.format(num1, num2, sum))"
   ]
  },
  {
   "cell_type": "code",
   "execution_count": null,
   "metadata": {},
   "outputs": [],
   "source": []
  }
 ],
 "metadata": {
  "kernelspec": {
   "display_name": "Python 3",
   "language": "python",
   "name": "python3"
  },
  "language_info": {
   "codemirror_mode": {
    "name": "ipython",
    "version": 3
   },
   "file_extension": ".py",
   "mimetype": "text/x-python",
   "name": "python",
   "nbconvert_exporter": "python",
   "pygments_lexer": "ipython3",
   "version": "3.7.4"
  }
 },
 "nbformat": 4,
 "nbformat_minor": 2
}
